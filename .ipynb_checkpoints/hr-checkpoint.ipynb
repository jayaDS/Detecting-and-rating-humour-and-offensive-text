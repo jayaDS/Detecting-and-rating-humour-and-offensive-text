{
 "cells": [
  {
   "cell_type": "code",
   "execution_count": 28,
   "id": "dd819d23",
   "metadata": {},
   "outputs": [],
   "source": [
    "import os\n",
    "import pandas as pd\n",
    "import tensorflow as tf\n",
    "import numpy as np"
   ]
  },
  {
   "cell_type": "code",
   "execution_count": 13,
   "id": "4d7d15d9",
   "metadata": {},
   "outputs": [],
   "source": [
    "df = pd.read_csv(os.path.join('./hr.csv'))"
   ]
  },
  {
   "cell_type": "code",
   "execution_count": 14,
   "id": "10f64e7b",
   "metadata": {},
   "outputs": [
    {
     "data": {
      "text/html": [
       "<div>\n",
       "<style scoped>\n",
       "    .dataframe tbody tr th:only-of-type {\n",
       "        vertical-align: middle;\n",
       "    }\n",
       "\n",
       "    .dataframe tbody tr th {\n",
       "        vertical-align: top;\n",
       "    }\n",
       "\n",
       "    .dataframe thead th {\n",
       "        text-align: right;\n",
       "    }\n",
       "</style>\n",
       "<table border=\"1\" class=\"dataframe\">\n",
       "  <thead>\n",
       "    <tr style=\"text-align: right;\">\n",
       "      <th></th>\n",
       "      <th>Id</th>\n",
       "      <th>ocr_text</th>\n",
       "      <th>humour</th>\n",
       "    </tr>\n",
       "  </thead>\n",
       "  <tbody>\n",
       "    <tr>\n",
       "      <th>0</th>\n",
       "      <td>1</td>\n",
       "      <td>enters into a wrong class teacher and students</td>\n",
       "      <td>funny</td>\n",
       "    </tr>\n",
       "    <tr>\n",
       "      <th>1</th>\n",
       "      <td>2</td>\n",
       "      <td>dj if you single make some nooooissssseeee my ...</td>\n",
       "      <td>funny</td>\n",
       "    </tr>\n",
       "    <tr>\n",
       "      <th>2</th>\n",
       "      <td>3</td>\n",
       "      <td>everyone sit like a lady me</td>\n",
       "      <td>funny</td>\n",
       "    </tr>\n",
       "    <tr>\n",
       "      <th>3</th>\n",
       "      <td>4</td>\n",
       "      <td>when youre about to watch a 2 hour educational...</td>\n",
       "      <td>funny</td>\n",
       "    </tr>\n",
       "    <tr>\n",
       "      <th>4</th>\n",
       "      <td>5</td>\n",
       "      <td>government work from home olympic swimmers nsdf</td>\n",
       "      <td>very_funny</td>\n",
       "    </tr>\n",
       "  </tbody>\n",
       "</table>\n",
       "</div>"
      ],
      "text/plain": [
       "   Id                                           ocr_text      humour\n",
       "0   1    enters into a wrong class teacher and students        funny\n",
       "1   2  dj if you single make some nooooissssseeee my ...       funny\n",
       "2   3                       everyone sit like a lady me        funny\n",
       "3   4  when youre about to watch a 2 hour educational...       funny\n",
       "4   5   government work from home olympic swimmers nsdf   very_funny"
      ]
     },
     "execution_count": 14,
     "metadata": {},
     "output_type": "execute_result"
    }
   ],
   "source": [
    "df.head()"
   ]
  },
  {
   "cell_type": "code",
   "execution_count": 50,
   "id": "b51ba5ef",
   "metadata": {},
   "outputs": [
    {
     "data": {
      "text/html": [
       "<div>\n",
       "<style scoped>\n",
       "    .dataframe tbody tr th:only-of-type {\n",
       "        vertical-align: middle;\n",
       "    }\n",
       "\n",
       "    .dataframe tbody tr th {\n",
       "        vertical-align: top;\n",
       "    }\n",
       "\n",
       "    .dataframe thead th {\n",
       "        text-align: right;\n",
       "    }\n",
       "</style>\n",
       "<table border=\"1\" class=\"dataframe\">\n",
       "  <thead>\n",
       "    <tr style=\"text-align: right;\">\n",
       "      <th></th>\n",
       "      <th>Id</th>\n",
       "      <th>ocr_text</th>\n",
       "      <th>humour</th>\n",
       "      <th>funny</th>\n",
       "      <th>very_funny</th>\n",
       "      <th>hilarious</th>\n",
       "      <th>is_humour</th>\n",
       "    </tr>\n",
       "  </thead>\n",
       "  <tbody>\n",
       "    <tr>\n",
       "      <th>0</th>\n",
       "      <td>1</td>\n",
       "      <td>enters into a wrong class teacher and students</td>\n",
       "      <td>funny</td>\n",
       "      <td>1</td>\n",
       "      <td>0</td>\n",
       "      <td>0</td>\n",
       "      <td>1</td>\n",
       "    </tr>\n",
       "    <tr>\n",
       "      <th>1</th>\n",
       "      <td>2</td>\n",
       "      <td>dj if you single make some nooooissssseeee my ...</td>\n",
       "      <td>funny</td>\n",
       "      <td>1</td>\n",
       "      <td>0</td>\n",
       "      <td>0</td>\n",
       "      <td>1</td>\n",
       "    </tr>\n",
       "    <tr>\n",
       "      <th>2</th>\n",
       "      <td>3</td>\n",
       "      <td>everyone sit like a lady me</td>\n",
       "      <td>funny</td>\n",
       "      <td>1</td>\n",
       "      <td>0</td>\n",
       "      <td>0</td>\n",
       "      <td>1</td>\n",
       "    </tr>\n",
       "    <tr>\n",
       "      <th>3</th>\n",
       "      <td>4</td>\n",
       "      <td>when youre about to watch a 2 hour educational...</td>\n",
       "      <td>funny</td>\n",
       "      <td>1</td>\n",
       "      <td>0</td>\n",
       "      <td>0</td>\n",
       "      <td>1</td>\n",
       "    </tr>\n",
       "    <tr>\n",
       "      <th>4</th>\n",
       "      <td>5</td>\n",
       "      <td>government work from home olympic swimmers nsdf</td>\n",
       "      <td>very_funny</td>\n",
       "      <td>0</td>\n",
       "      <td>1</td>\n",
       "      <td>0</td>\n",
       "      <td>1</td>\n",
       "    </tr>\n",
       "  </tbody>\n",
       "</table>\n",
       "</div>"
      ],
      "text/plain": [
       "   Id                                           ocr_text      humour  funny  \\\n",
       "0   1    enters into a wrong class teacher and students        funny      1   \n",
       "1   2  dj if you single make some nooooissssseeee my ...       funny      1   \n",
       "2   3                       everyone sit like a lady me        funny      1   \n",
       "3   4  when youre about to watch a 2 hour educational...       funny      1   \n",
       "4   5   government work from home olympic swimmers nsdf   very_funny      0   \n",
       "\n",
       "   very_funny  hilarious  is_humour  \n",
       "0           0          0          1  \n",
       "1           0          0          1  \n",
       "2           0          0          1  \n",
       "3           0          0          1  \n",
       "4           1          0          1  "
      ]
     },
     "execution_count": 50,
     "metadata": {},
     "output_type": "execute_result"
    }
   ],
   "source": [
    "df['is_humour']=df['humour'].apply(lambda x: 0 if x=='not_funny' else 1)\n",
    "df['funny']=df['humour'].apply(lambda x: 1 if x=='funny' else 0)\n",
    "df['very_funny']=df['humour'].apply(lambda x: 1 if x=='very_funny' else 0)\n",
    "df['hilarious']=df['humour'].apply(lambda x: 1 if x=='hilarious' else 0)\n",
    "df.head(5)"
   ]
  },
  {
   "cell_type": "code",
   "execution_count": 16,
   "id": "01724735",
   "metadata": {},
   "outputs": [],
   "source": [
    "from tensorflow.keras.layers import TextVectorization"
   ]
  },
  {
   "cell_type": "code",
   "execution_count": 17,
   "id": "6cc673ab",
   "metadata": {},
   "outputs": [],
   "source": [
    "x = df['ocr_text']\n",
    "y = df[df.columns[3:]].values"
   ]
  },
  {
   "cell_type": "code",
   "execution_count": 18,
   "id": "c6f7b5db",
   "metadata": {},
   "outputs": [],
   "source": [
    "MAX_FEATURES = 200000 # number of words in the vocab"
   ]
  },
  {
   "cell_type": "code",
   "execution_count": 19,
   "id": "beae2673",
   "metadata": {},
   "outputs": [],
   "source": [
    "vectorizer = TextVectorization(max_tokens=MAX_FEATURES,\n",
    "                               output_sequence_length=1800,\n",
    "                               output_mode='int')"
   ]
  },
  {
   "cell_type": "code",
   "execution_count": 20,
   "id": "84be05e9",
   "metadata": {},
   "outputs": [
    {
     "data": {
      "text/plain": [
       "'enters into a wrong class teacher and students '"
      ]
     },
     "execution_count": 20,
     "metadata": {},
     "output_type": "execute_result"
    }
   ],
   "source": [
    "x.values[0]"
   ]
  },
  {
   "cell_type": "code",
   "execution_count": 21,
   "id": "8b3142ef",
   "metadata": {
    "scrolled": true
   },
   "outputs": [],
   "source": [
    "vectorized_text=vectorizer.adapt(x.values)"
   ]
  },
  {
   "cell_type": "code",
   "execution_count": 29,
   "id": "dceec925",
   "metadata": {},
   "outputs": [],
   "source": [
    "# model = tf.keras.models.load_model('toxicitye13.h5')"
   ]
  },
  {
   "cell_type": "code",
   "execution_count": 49,
   "id": "c425e624",
   "metadata": {},
   "outputs": [
    {
     "data": {
      "text/plain": [
       "0.5"
      ]
     },
     "execution_count": 49,
     "metadata": {},
     "output_type": "execute_result"
    }
   ],
   "source": [
    "max(2.7285960e-09,0.5)"
   ]
  },
  {
   "cell_type": "code",
   "execution_count": 48,
   "id": "7b93779c",
   "metadata": {},
   "outputs": [
    {
     "data": {
      "text/plain": [
       "array([[2.7285960e-09, 0.0000000e+00, 5.8095379e-10, 5.5818587e-20,\n",
       "        2.7741483e-15, 1.1466898e-14]], dtype=float32)"
      ]
     },
     "execution_count": 48,
     "metadata": {},
     "output_type": "execute_result"
    }
   ],
   "source": [
    "# input_text = vectorizer(['you are stupid'])\n",
    "# # input_text.shape\n",
    "# model.predict(input_text)\n",
    "# # (res >=0.6).astype(int)"
   ]
  },
  {
   "cell_type": "code",
   "execution_count": 41,
   "id": "8949504e",
   "metadata": {},
   "outputs": [
    {
     "ename": "OSError",
     "evalue": "No file or directory found at toxicitye5.h5",
     "output_type": "error",
     "traceback": [
      "\u001b[1;31m---------------------------------------------------------------------------\u001b[0m",
      "\u001b[1;31mOSError\u001b[0m                                   Traceback (most recent call last)",
      "\u001b[1;32m~\\AppData\\Local\\Temp\\ipykernel_12988\\1642991447.py\u001b[0m in \u001b[0;36m<module>\u001b[1;34m\u001b[0m\n\u001b[1;32m----> 1\u001b[1;33m \u001b[0mmodel1\u001b[0m \u001b[1;33m=\u001b[0m \u001b[0mtf\u001b[0m\u001b[1;33m.\u001b[0m\u001b[0mkeras\u001b[0m\u001b[1;33m.\u001b[0m\u001b[0mmodels\u001b[0m\u001b[1;33m.\u001b[0m\u001b[0mload_model\u001b[0m\u001b[1;33m(\u001b[0m\u001b[1;34m'toxicitye5.h5'\u001b[0m\u001b[1;33m)\u001b[0m\u001b[1;33m\u001b[0m\u001b[1;33m\u001b[0m\u001b[0m\n\u001b[0m",
      "\u001b[1;32m~\\AppData\\Roaming\\Python\\Python39\\site-packages\\keras\\utils\\traceback_utils.py\u001b[0m in \u001b[0;36merror_handler\u001b[1;34m(*args, **kwargs)\u001b[0m\n\u001b[0;32m     65\u001b[0m     \u001b[1;32mexcept\u001b[0m \u001b[0mException\u001b[0m \u001b[1;32mas\u001b[0m \u001b[0me\u001b[0m\u001b[1;33m:\u001b[0m  \u001b[1;31m# pylint: disable=broad-except\u001b[0m\u001b[1;33m\u001b[0m\u001b[1;33m\u001b[0m\u001b[0m\n\u001b[0;32m     66\u001b[0m       \u001b[0mfiltered_tb\u001b[0m \u001b[1;33m=\u001b[0m \u001b[0m_process_traceback_frames\u001b[0m\u001b[1;33m(\u001b[0m\u001b[0me\u001b[0m\u001b[1;33m.\u001b[0m\u001b[0m__traceback__\u001b[0m\u001b[1;33m)\u001b[0m\u001b[1;33m\u001b[0m\u001b[1;33m\u001b[0m\u001b[0m\n\u001b[1;32m---> 67\u001b[1;33m       \u001b[1;32mraise\u001b[0m \u001b[0me\u001b[0m\u001b[1;33m.\u001b[0m\u001b[0mwith_traceback\u001b[0m\u001b[1;33m(\u001b[0m\u001b[0mfiltered_tb\u001b[0m\u001b[1;33m)\u001b[0m \u001b[1;32mfrom\u001b[0m \u001b[1;32mNone\u001b[0m\u001b[1;33m\u001b[0m\u001b[1;33m\u001b[0m\u001b[0m\n\u001b[0m\u001b[0;32m     68\u001b[0m     \u001b[1;32mfinally\u001b[0m\u001b[1;33m:\u001b[0m\u001b[1;33m\u001b[0m\u001b[1;33m\u001b[0m\u001b[0m\n\u001b[0;32m     69\u001b[0m       \u001b[1;32mdel\u001b[0m \u001b[0mfiltered_tb\u001b[0m\u001b[1;33m\u001b[0m\u001b[1;33m\u001b[0m\u001b[0m\n",
      "\u001b[1;32m~\\AppData\\Roaming\\Python\\Python39\\site-packages\\keras\\saving\\save.py\u001b[0m in \u001b[0;36mload_model\u001b[1;34m(filepath, custom_objects, compile, options)\u001b[0m\n\u001b[0;32m    202\u001b[0m         \u001b[1;32mif\u001b[0m \u001b[0misinstance\u001b[0m\u001b[1;33m(\u001b[0m\u001b[0mfilepath_str\u001b[0m\u001b[1;33m,\u001b[0m \u001b[0mstr\u001b[0m\u001b[1;33m)\u001b[0m\u001b[1;33m:\u001b[0m\u001b[1;33m\u001b[0m\u001b[1;33m\u001b[0m\u001b[0m\n\u001b[0;32m    203\u001b[0m           \u001b[1;32mif\u001b[0m \u001b[1;32mnot\u001b[0m \u001b[0mtf\u001b[0m\u001b[1;33m.\u001b[0m\u001b[0mio\u001b[0m\u001b[1;33m.\u001b[0m\u001b[0mgfile\u001b[0m\u001b[1;33m.\u001b[0m\u001b[0mexists\u001b[0m\u001b[1;33m(\u001b[0m\u001b[0mfilepath_str\u001b[0m\u001b[1;33m)\u001b[0m\u001b[1;33m:\u001b[0m\u001b[1;33m\u001b[0m\u001b[1;33m\u001b[0m\u001b[0m\n\u001b[1;32m--> 204\u001b[1;33m             \u001b[1;32mraise\u001b[0m \u001b[0mIOError\u001b[0m\u001b[1;33m(\u001b[0m\u001b[1;34mf'No file or directory found at {filepath_str}'\u001b[0m\u001b[1;33m)\u001b[0m\u001b[1;33m\u001b[0m\u001b[1;33m\u001b[0m\u001b[0m\n\u001b[0m\u001b[0;32m    205\u001b[0m \u001b[1;33m\u001b[0m\u001b[0m\n\u001b[0;32m    206\u001b[0m           \u001b[1;32mif\u001b[0m \u001b[0mtf\u001b[0m\u001b[1;33m.\u001b[0m\u001b[0mio\u001b[0m\u001b[1;33m.\u001b[0m\u001b[0mgfile\u001b[0m\u001b[1;33m.\u001b[0m\u001b[0misdir\u001b[0m\u001b[1;33m(\u001b[0m\u001b[0mfilepath_str\u001b[0m\u001b[1;33m)\u001b[0m\u001b[1;33m:\u001b[0m\u001b[1;33m\u001b[0m\u001b[1;33m\u001b[0m\u001b[0m\n",
      "\u001b[1;31mOSError\u001b[0m: No file or directory found at toxicitye5.h5"
     ]
    }
   ],
   "source": [
    "# model1 = tf.keras.models.load_model('toxicitye5.h5')"
   ]
  },
  {
   "cell_type": "code",
   "execution_count": 51,
   "id": "dc6dd007",
   "metadata": {},
   "outputs": [],
   "source": [
    "# input_text = vectorizer(['I hate you'])\n",
    "# # input_text.shape\n",
    "# model1.predict(input_text)\n",
    "# # (res >=0.6).astype(int)"
   ]
  },
  {
   "cell_type": "code",
   "execution_count": null,
   "id": "46befcbb",
   "metadata": {},
   "outputs": [],
   "source": [
    "\n",
    "# from matplotlib import pyplot as plt\n",
    "# plt.figure(figsize=(8,5))\n",
    "# pd.DataFrame(history.history).plot()\n",
    "# plt.show()\n",
    "# # 3. Make Predictions\n",
    "# input_text = vectorizer('You freaking suck! I am going to hit you.')\n",
    "# res = model.predict(input_text)\n",
    "# (res > 0.5).astype(int)\n",
    "# batch_X, batch_y = test.as_numpy_iterator().next()\n",
    "# (model.predict(batch_X) > 0.5).astype(int)\n",
    "# res.shape\n",
    "# # 4. Evaluate Model\n",
    "# from tensorflow.keras.metrics import Precision, Recall, CategoricalAccuracy\n",
    "# pre = Precision()\n",
    "# re = Recall()\n",
    "# acc = CategoricalAccuracy()\n",
    "# for batch in test.as_numpy_iterator(): \n",
    "#     # Unpack the batch \n",
    "#     X_true, y_true = batch\n",
    "#     # Make a prediction \n",
    "#     yhat = model.predict(X_true)\n",
    "    \n",
    "#     # Flatten the predictions\n",
    "#     y_true = y_true.flatten()\n",
    "#     yhat = yhat.flatten()\n",
    "    \n",
    "#     pre.update_state(y_true, yhat)\n",
    "#     re.update_state(y_true, yhat)\n",
    "#     acc.update_state(y_true, yhat)\n",
    "# print(f'Precision: {pre.result().numpy()}, Recall:{re.result().numpy()}, Accuracy:{acc.result().numpy()}')\n",
    "# # 5. Test and Gradio\n",
    "# !pip install gradio jinja2\n",
    "# import tensorflow as tf\n",
    "# import gradio as gr\n",
    "# model.save('toxicity.h5')\n",
    "# model = tf.keras.models.load_model('toxicity.h5')\n",
    "# input_str = vectorizer('hey i freaken hate you!')\n",
    "# res = model.predict(np.expand_dims(input_str,0))\n",
    "# res\n",
    "# def score_comment(comment):\n",
    "#     vectorized_comment = vectorizer([comment])\n",
    "#     results = model.predict(vectorized_comment)\n",
    "    \n",
    "#     text = ''\n",
    "#     for idx, col in enumerate(df.columns[2:]):\n",
    "#         text += '{}: {}\\n'.format(col, results[0][idx]>0.5)\n",
    "    \n",
    "#     return text\n",
    "# interface = gr.Interface(fn=score_comment,inputs=gr.inputs.Textbox(lines=2, placeholder='Comment to score'),outputs='text')\n",
    "# interface.launch(share=True)"
   ]
  }
 ],
 "metadata": {
  "kernelspec": {
   "display_name": "Python 3 (ipykernel)",
   "language": "python",
   "name": "python3"
  },
  "language_info": {
   "codemirror_mode": {
    "name": "ipython",
    "version": 3
   },
   "file_extension": ".py",
   "mimetype": "text/x-python",
   "name": "python",
   "nbconvert_exporter": "python",
   "pygments_lexer": "ipython3",
   "version": "3.9.13"
  }
 },
 "nbformat": 4,
 "nbformat_minor": 5
}
