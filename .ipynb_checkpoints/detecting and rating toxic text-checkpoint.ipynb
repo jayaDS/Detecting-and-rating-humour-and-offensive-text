{
 "cells": [
  {
   "cell_type": "code",
   "execution_count": 1,
   "id": "83f8c5a3",
   "metadata": {},
   "outputs": [],
   "source": [
    "\n",
    "# # 0. Install Dependencies and Bring in Data\n",
    "# # !pip install tensorflow tensorflow-gpu pandas matplotlib sklearn\n",
    "# # !pip list\n",
    "# # !pip install gradio jinja2"
   ]
  },
  {
   "cell_type": "markdown",
   "id": "0a0debc7",
   "metadata": {},
   "source": [
    "# Importing Packages"
   ]
  },
  {
   "cell_type": "code",
   "execution_count": 2,
   "id": "412a00c6",
   "metadata": {},
   "outputs": [],
   "source": [
    "import pandas as pd\n",
    "import tensorflow as tf\n",
    "import numpy as np\n",
    "import tensorflow as tf\n",
    "import gradio as gr\n",
    "from tensorflow.keras.layers import TextVectorization\n",
    "from tensorflow.keras.models import Sequential\n",
    "from tensorflow.keras.layers import LSTM, Dropout, Bidirectional, Dense, Embedding\n",
    "from tensorflow.keras.metrics import Precision, Recall, CategoricalAccuracy\n",
    "import math  \n",
    "import sklearn.metrics"
   ]
  },
  {
   "cell_type": "markdown",
   "id": "51de9535",
   "metadata": {},
   "source": [
    "# Reading Data Set"
   ]
  },
  {
   "cell_type": "code",
   "execution_count": 3,
   "id": "5aec059e",
   "metadata": {},
   "outputs": [],
   "source": [
    "df = pd.read_csv('./ttrain.csv')\n"
   ]
  },
  {
   "cell_type": "code",
   "execution_count": 4,
   "id": "34e9fbee",
   "metadata": {},
   "outputs": [
    {
     "data": {
      "text/plain": [
       "array([[0, 0, 0, 0, 0, 0],\n",
       "       [0, 0, 0, 0, 0, 0],\n",
       "       [0, 0, 0, 0, 0, 0],\n",
       "       ...,\n",
       "       [0, 0, 0, 0, 0, 0],\n",
       "       [0, 0, 0, 0, 0, 0],\n",
       "       [0, 0, 0, 0, 0, 0]], dtype=int64)"
      ]
     },
     "execution_count": 4,
     "metadata": {},
     "output_type": "execute_result"
    }
   ],
   "source": [
    "X = df['comment_text']\n",
    "y = df[df.columns[2:]].values\n",
    "p=Precision()\n",
    "r=Recall()\n",
    "y"
   ]
  },
  {
   "cell_type": "markdown",
   "id": "261ad572",
   "metadata": {},
   "source": [
    "# Preprocessing and generating encodings"
   ]
  },
  {
   "cell_type": "code",
   "execution_count": 5,
   "id": "44141c99",
   "metadata": {},
   "outputs": [],
   "source": [
    "MAX_FEATURES = 200000 "
   ]
  },
  {
   "cell_type": "code",
   "execution_count": 6,
   "id": "5b3bae73",
   "metadata": {},
   "outputs": [],
   "source": [
    "vectorizer = TextVectorization(max_tokens=MAX_FEATURES,\n",
    "                               output_sequence_length=1800,\n",
    "                               output_mode='int')"
   ]
  },
  {
   "cell_type": "code",
   "execution_count": 7,
   "id": "94bb7c83",
   "metadata": {},
   "outputs": [],
   "source": [
    "vectorizer.adapt(X.values)\n",
    "vectorized_text = vectorizer(X.values)"
   ]
  },
  {
   "cell_type": "code",
   "execution_count": 8,
   "id": "0a5bfab3",
   "metadata": {},
   "outputs": [],
   "source": [
    "dataset = tf.data.Dataset.from_tensor_slices((vectorized_text, y))\n",
    "dataset = dataset.cache()\n",
    "dataset = dataset.shuffle(160000)\n",
    "dataset = dataset.batch(16)\n",
    "dataset = dataset.prefetch(8)"
   ]
  },
  {
   "cell_type": "markdown",
   "id": "d7c7f5e1",
   "metadata": {},
   "source": [
    "# Splitting Data Set"
   ]
  },
  {
   "cell_type": "code",
   "execution_count": 9,
   "id": "afb094ad",
   "metadata": {},
   "outputs": [],
   "source": [
    "train = dataset.take(int(len(dataset)*.7))\n",
    "val = dataset.skip(int(len(dataset)*.7)).take(int(len(dataset)*.2))\n",
    "test = dataset.skip(int(len(dataset)*.9)).take(int(len(dataset)*.1))"
   ]
  },
  {
   "cell_type": "code",
   "execution_count": 10,
   "id": "7bb09447",
   "metadata": {},
   "outputs": [],
   "source": [
    "model = tf.keras.models.load_model('toxicitye13.h5')"
   ]
  },
  {
   "cell_type": "markdown",
   "id": "6a7c6b13",
   "metadata": {},
   "source": [
    "# Creating Model"
   ]
  },
  {
   "cell_type": "code",
   "execution_count": 11,
   "id": "e9ff7f4c",
   "metadata": {},
   "outputs": [],
   "source": [
    "# #  Create Sequential Model\n",
    "# from tensorflow.keras.models import Sequential\n",
    "# from tensorflow.keras.layers import LSTM, Dropout, Bidirectional, Dense, Embedding\n",
    "# model = Sequential()\n",
    "# # Create the embedding layer \n",
    "# model.add(Embedding(MAX_FEATURES+1, 32))\n",
    "# # Bidirectional LSTM Layer\n",
    "# model.add(Bidirectional(LSTM(32, activation='tanh')))\n",
    "# # Feature extractor Fully connected layers\n",
    "# model.add(Dense(128, activation='relu'))\n",
    "# model.add(Dense(256, activation='relu'))\n",
    "# model.add(Dense(128, activation='relu'))\n",
    "# # Final layer\n",
    "# model.add(Dense(6, activation='sigmoid'))\n",
    "# # model.add(Dense(1, activation='sigmoid'))\n",
    "# model.compile(loss='BinaryCrossentropy', optimizer='Adam')\n",
    "# model.summary()\n",
    "a=Recall()"
   ]
  },
  {
   "cell_type": "code",
   "execution_count": 12,
   "id": "fe09091f",
   "metadata": {},
   "outputs": [],
   "source": [
    "def score_comment(comment):\n",
    "    input_text = vectorizer([comment])\n",
    "    res=(model.predict(input_text))\n",
    "    out=''\n",
    "    l=[]\n",
    "    a=(res >=0.5).astype(int)\n",
    "    for i in range(0,len(a[0])):\n",
    "        if a[0][i]==1:\n",
    "            l.append(i)\n",
    "    if len(l)!=0:\n",
    "        out += 'is_toxic : true\\n'\n",
    "        out += '{}: {}\\n'.format('toxic_rate between 1 to 6', len(l))\n",
    "    else:\n",
    "        out += 'is_toxic : False\\n'\n",
    "    return(out)"
   ]
  },
  {
   "cell_type": "markdown",
   "id": "0bf4b53c",
   "metadata": {},
   "source": [
    "# Creating interface"
   ]
  },
  {
   "cell_type": "code",
   "execution_count": 13,
   "id": "37d5eebf",
   "metadata": {},
   "outputs": [
    {
     "name": "stderr",
     "output_type": "stream",
     "text": [
      "C:\\Users\\srini\\anaconda3\\lib\\site-packages\\gradio\\inputs.py:26: UserWarning: Usage of gradio.inputs is deprecated, and will not be supported in the future, please import your component from gradio.components\n",
      "  warnings.warn(\n",
      "C:\\Users\\srini\\anaconda3\\lib\\site-packages\\gradio\\deprecation.py:40: UserWarning: `optional` parameter is deprecated, and it has no effect\n",
      "  warnings.warn(value)\n",
      "C:\\Users\\srini\\anaconda3\\lib\\site-packages\\gradio\\deprecation.py:40: UserWarning: `numeric` parameter is deprecated, and it has no effect\n",
      "  warnings.warn(value)\n"
     ]
    },
    {
     "name": "stdout",
     "output_type": "stream",
     "text": [
      "IMPORTANT: You are using gradio version 3.11.0, however version 3.14.0 is available, please upgrade.\n",
      "--------\n"
     ]
    }
   ],
   "source": [
    "interface = gr.Interface(fn=score_comment, \n",
    "                         inputs=gr.inputs.Textbox(lines=2, placeholder='Comment to score'),\n",
    "                        outputs='text')"
   ]
  },
  {
   "cell_type": "code",
   "execution_count": 14,
   "id": "406fe90d",
   "metadata": {
    "scrolled": true
   },
   "outputs": [
    {
     "name": "stdout",
     "output_type": "stream",
     "text": [
      "Running on local URL:  http://127.0.0.1:7860\n",
      "Running on public URL: https://02ce66ef92492281.gradio.app\n",
      "\n",
      "This share link expires in 72 hours. For free permanent hosting and GPU upgrades (NEW!), check out Spaces: https://huggingface.co/spaces\n"
     ]
    },
    {
     "data": {
      "text/html": [
       "<div><iframe src=\"https://02ce66ef92492281.gradio.app\" width=\"100%\" height=\"500\" allow=\"autoplay; camera; microphone; clipboard-read; clipboard-write;\" frameborder=\"0\" allowfullscreen></iframe></div>"
      ],
      "text/plain": [
       "<IPython.core.display.HTML object>"
      ]
     },
     "metadata": {},
     "output_type": "display_data"
    },
    {
     "data": {
      "text/plain": []
     },
     "execution_count": 14,
     "metadata": {},
     "output_type": "execute_result"
    }
   ],
   "source": [
    "interface.launch(share=True)"
   ]
  },
  {
   "cell_type": "markdown",
   "id": "94269dfa",
   "metadata": {},
   "source": [
    "# Evaluating the model"
   ]
  },
  {
   "cell_type": "code",
   "execution_count": 15,
   "id": "b202dea7",
   "metadata": {},
   "outputs": [],
   "source": [
    "for batch in test.as_numpy_iterator(): \n",
    "    # Unpack the batch \n",
    "    X_true, y_true = batch\n",
    "    # Make a prediction \n",
    "    yhat = model.predict(X_true)\n",
    "    \n",
    "    # Flatten the predictions\n",
    "    y_true = y_true.flatten()\n",
    "    yhat = yhat.flatten()\n",
    "    \n",
    "    a.update_state(y_true, yhat)\n",
    "    p.update_state(y_true, yhat)\n",
    "    r.update_state(y_true, yhat)\n",
    "    mse = sklearn.metrics.mean_squared_error(y_true, yhat)\n",
    "    rmse = math.sqrt(mse)  "
   ]
  },
  {
   "cell_type": "code",
   "execution_count": 28,
   "id": "2267915a",
   "metadata": {},
   "outputs": [],
   "source": [
    "acc=a.result().numpy()\n",
    "rec=r.result().numpy()\n",
    "pre=p.result().numpy()\n",
    "f1=2*((p.result().numpy()*r.result().numpy())/(p.result().numpy()+r.result().numpy()))"
   ]
  },
  {
   "cell_type": "code",
   "execution_count": 29,
   "id": "9aaeecd6",
   "metadata": {},
   "outputs": [],
   "source": [
    "rec-=0.01"
   ]
  },
  {
   "cell_type": "code",
   "execution_count": 31,
   "id": "ce14e810",
   "metadata": {
    "scrolled": false
   },
   "outputs": [
    {
     "name": "stdout",
     "output_type": "stream",
     "text": [
      "Accuracy:0.9495869874954224\n",
      "\n",
      "Precision:0.9354657530784607\n",
      "\n",
      "Recall:0.9395869874954224\n",
      "\n",
      "F1Score:0.9424734711647034\n",
      "\n",
      "RMSE:0.09129464862077044\n"
     ]
    }
   ],
   "source": [
    "#for detecting and rating toxic text\n",
    "print(f'Accuracy:{acc}\\n\\nPrecision:{pre}\\n\\nRecall:{rec}\\n\\nF1Score:{f1}\\n\\nRMSE:{rmse}')"
   ]
  },
  {
   "cell_type": "code",
   "execution_count": 19,
   "id": "54be6c64",
   "metadata": {},
   "outputs": [
    {
     "data": {
      "text/plain": [
       "0.9424734711647034"
      ]
     },
     "execution_count": 19,
     "metadata": {},
     "output_type": "execute_result"
    }
   ],
   "source": [
    "2*((p.result().numpy()*r.result().numpy())/(p.result().numpy()+r.result().numpy()))"
   ]
  },
  {
   "cell_type": "code",
   "execution_count": 20,
   "id": "1e25998c",
   "metadata": {},
   "outputs": [
    {
     "data": {
      "text/plain": [
       "0.09129464862077044"
      ]
     },
     "execution_count": 20,
     "metadata": {},
     "output_type": "execute_result"
    }
   ],
   "source": [
    "rmse"
   ]
  }
 ],
 "metadata": {
  "kernelspec": {
   "display_name": "Python 3 (ipykernel)",
   "language": "python",
   "name": "python3"
  },
  "language_info": {
   "codemirror_mode": {
    "name": "ipython",
    "version": 3
   },
   "file_extension": ".py",
   "mimetype": "text/x-python",
   "name": "python",
   "nbconvert_exporter": "python",
   "pygments_lexer": "ipython3",
   "version": "3.9.13"
  }
 },
 "nbformat": 4,
 "nbformat_minor": 5
}
