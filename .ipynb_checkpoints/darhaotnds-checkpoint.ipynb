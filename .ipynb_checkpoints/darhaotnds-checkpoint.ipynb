{
 "cells": [
  {
   "cell_type": "code",
   "execution_count": 1,
   "id": "6a2246c8",
   "metadata": {},
   "outputs": [],
   "source": [
    "\n",
    "# 0. Install Dependencies and Bring in Data\n",
    "# !pip install tensorflow tensorflow-gpu pandas matplotlib sklearn\n",
    "# !pip list\n",
    "# !pip install gradio jinja2"
   ]
  },
  {
   "cell_type": "code",
   "execution_count": 2,
   "id": "ca791265",
   "metadata": {},
   "outputs": [],
   "source": [
    "import os\n",
    "import pandas as pd\n",
    "import tensorflow as tf\n",
    "import numpy as np\n",
    "import tensorflow as tf\n",
    "import gradio as gr\n",
    "from tensorflow.keras.layers import TextVectorization\n",
    "from tensorflow.keras.models import Sequential\n",
    "from tensorflow.keras.layers import LSTM, Dropout, Bidirectional, Dense, Embedding"
   ]
  },
  {
   "cell_type": "code",
   "execution_count": 3,
   "id": "cadde6e8",
   "metadata": {},
   "outputs": [],
   "source": [
    "dfh = pd.read_csv('./hr.csv')\n",
    "dft = pd.read_csv('./ttrain.csv')\n",
    "# df.head()\n",
    "# ran=['toxic','severe_toxic','obscene','threat','insult','identity_hate']"
   ]
  },
  {
   "cell_type": "code",
   "execution_count": 4,
   "id": "d53b5bd5",
   "metadata": {},
   "outputs": [
    {
     "data": {
      "text/html": [
       "<div>\n",
       "<style scoped>\n",
       "    .dataframe tbody tr th:only-of-type {\n",
       "        vertical-align: middle;\n",
       "    }\n",
       "\n",
       "    .dataframe tbody tr th {\n",
       "        vertical-align: top;\n",
       "    }\n",
       "\n",
       "    .dataframe thead th {\n",
       "        text-align: right;\n",
       "    }\n",
       "</style>\n",
       "<table border=\"1\" class=\"dataframe\">\n",
       "  <thead>\n",
       "    <tr style=\"text-align: right;\">\n",
       "      <th></th>\n",
       "      <th>Id</th>\n",
       "      <th>ocr_text</th>\n",
       "      <th>humour</th>\n",
       "      <th>funny</th>\n",
       "      <th>very_funny</th>\n",
       "      <th>hilarious</th>\n",
       "    </tr>\n",
       "  </thead>\n",
       "  <tbody>\n",
       "    <tr>\n",
       "      <th>0</th>\n",
       "      <td>1</td>\n",
       "      <td>enters into a wrong class teacher and students</td>\n",
       "      <td>funny</td>\n",
       "      <td>1</td>\n",
       "      <td>0</td>\n",
       "      <td>0</td>\n",
       "    </tr>\n",
       "    <tr>\n",
       "      <th>1</th>\n",
       "      <td>2</td>\n",
       "      <td>dj if you single make some nooooissssseeee my ...</td>\n",
       "      <td>funny</td>\n",
       "      <td>1</td>\n",
       "      <td>0</td>\n",
       "      <td>0</td>\n",
       "    </tr>\n",
       "    <tr>\n",
       "      <th>2</th>\n",
       "      <td>3</td>\n",
       "      <td>everyone sit like a lady me</td>\n",
       "      <td>funny</td>\n",
       "      <td>1</td>\n",
       "      <td>0</td>\n",
       "      <td>0</td>\n",
       "    </tr>\n",
       "    <tr>\n",
       "      <th>3</th>\n",
       "      <td>4</td>\n",
       "      <td>when youre about to watch a 2 hour educational...</td>\n",
       "      <td>funny</td>\n",
       "      <td>1</td>\n",
       "      <td>0</td>\n",
       "      <td>0</td>\n",
       "    </tr>\n",
       "    <tr>\n",
       "      <th>4</th>\n",
       "      <td>5</td>\n",
       "      <td>government work from home olympic swimmers nsdf</td>\n",
       "      <td>very_funny</td>\n",
       "      <td>0</td>\n",
       "      <td>1</td>\n",
       "      <td>0</td>\n",
       "    </tr>\n",
       "    <tr>\n",
       "      <th>...</th>\n",
       "      <td>...</td>\n",
       "      <td>...</td>\n",
       "      <td>...</td>\n",
       "      <td>...</td>\n",
       "      <td>...</td>\n",
       "      <td>...</td>\n",
       "    </tr>\n",
       "    <tr>\n",
       "      <th>6995</th>\n",
       "      <td>6996</td>\n",
       "      <td>my plan my budget</td>\n",
       "      <td>very_funny</td>\n",
       "      <td>0</td>\n",
       "      <td>1</td>\n",
       "      <td>0</td>\n",
       "    </tr>\n",
       "    <tr>\n",
       "      <th>6996</th>\n",
       "      <td>6997</td>\n",
       "      <td>emoji scissors wouldnt close in real life inte...</td>\n",
       "      <td>funny</td>\n",
       "      <td>1</td>\n",
       "      <td>0</td>\n",
       "      <td>0</td>\n",
       "    </tr>\n",
       "    <tr>\n",
       "      <th>6997</th>\n",
       "      <td>6998</td>\n",
       "      <td>me ready to get a good nights sleep my left no...</td>\n",
       "      <td>funny</td>\n",
       "      <td>1</td>\n",
       "      <td>0</td>\n",
       "      <td>0</td>\n",
       "    </tr>\n",
       "    <tr>\n",
       "      <th>6998</th>\n",
       "      <td>6999</td>\n",
       "      <td>you get new brain wrinkles when you learn some...</td>\n",
       "      <td>funny</td>\n",
       "      <td>1</td>\n",
       "      <td>0</td>\n",
       "      <td>0</td>\n",
       "    </tr>\n",
       "    <tr>\n",
       "      <th>6999</th>\n",
       "      <td>7000</td>\n",
       "      <td>when the asian kid starts crying after reading...</td>\n",
       "      <td>very_funny</td>\n",
       "      <td>0</td>\n",
       "      <td>1</td>\n",
       "      <td>0</td>\n",
       "    </tr>\n",
       "  </tbody>\n",
       "</table>\n",
       "<p>7000 rows × 6 columns</p>\n",
       "</div>"
      ],
      "text/plain": [
       "        Id                                           ocr_text      humour  \\\n",
       "0        1    enters into a wrong class teacher and students        funny   \n",
       "1        2  dj if you single make some nooooissssseeee my ...       funny   \n",
       "2        3                       everyone sit like a lady me        funny   \n",
       "3        4  when youre about to watch a 2 hour educational...       funny   \n",
       "4        5   government work from home olympic swimmers nsdf   very_funny   \n",
       "...    ...                                                ...         ...   \n",
       "6995  6996                                 my plan my budget   very_funny   \n",
       "6996  6997  emoji scissors wouldnt close in real life inte...       funny   \n",
       "6997  6998  me ready to get a good nights sleep my left no...       funny   \n",
       "6998  6999  you get new brain wrinkles when you learn some...       funny   \n",
       "6999  7000  when the asian kid starts crying after reading...  very_funny   \n",
       "\n",
       "      funny  very_funny  hilarious  \n",
       "0         1           0          0  \n",
       "1         1           0          0  \n",
       "2         1           0          0  \n",
       "3         1           0          0  \n",
       "4         0           1          0  \n",
       "...     ...         ...        ...  \n",
       "6995      0           1          0  \n",
       "6996      1           0          0  \n",
       "6997      1           0          0  \n",
       "6998      1           0          0  \n",
       "6999      0           1          0  \n",
       "\n",
       "[7000 rows x 6 columns]"
      ]
     },
     "execution_count": 4,
     "metadata": {},
     "output_type": "execute_result"
    }
   ],
   "source": [
    "dfh['funny']=dfh['humour'].apply(lambda x: 1 if x=='funny' else 0)\n",
    "dfh['very_funny']=dfh['humour'].apply(lambda x: 1 if x=='very_funny' else 0)\n",
    "dfh['hilarious']=dfh['humour'].apply(lambda x: 1 if x=='hilarious' else 0)\n",
    "dfh.head(7000)"
   ]
  },
  {
   "cell_type": "code",
   "execution_count": 5,
   "id": "c9e188a8",
   "metadata": {},
   "outputs": [],
   "source": [
    "Xh = dfh['ocr_text']\n",
    "yh = dfh[dfh.columns[3:]].values\n",
    "Xt = dft['comment_text']\n",
    "# y = df[df.columns[2:]].values\n",
    "li=np.append(Xh,Xt)\n",
    "lif=li.flatten()\n",
    "lst = li.tolist()"
   ]
  },
  {
   "cell_type": "code",
   "execution_count": 6,
   "id": "3a7eea0e",
   "metadata": {},
   "outputs": [],
   "source": [
    "# 1. Preprocess\n",
    "from tensorflow.keras.layers import TextVectorization\n",
    "MAX_FEATURES = 200000 # number of words in the vocab\n",
    "vectorizer = TextVectorization(max_tokens=MAX_FEATURES,\n",
    "                               output_sequence_length=1800,\n",
    "                               output_mode='int')\n",
    "vectorizer.adapt(lst)\n",
    "# vectorized_text1 = vectorizer(Xt.values)\n",
    "vectorized_text2 = vectorizer(Xh.values)\n",
    "# vectorized_text.shape"
   ]
  },
  {
   "cell_type": "code",
   "execution_count": 7,
   "id": "459b9ed9",
   "metadata": {},
   "outputs": [
    {
     "ename": "NameError",
     "evalue": "name 'y' is not defined",
     "output_type": "error",
     "traceback": [
      "\u001b[1;31m---------------------------------------------------------------------------\u001b[0m",
      "\u001b[1;31mNameError\u001b[0m                                 Traceback (most recent call last)",
      "\u001b[1;32m~\\AppData\\Local\\Temp\\ipykernel_23656\\1656858771.py\u001b[0m in \u001b[0;36m<module>\u001b[1;34m\u001b[0m\n\u001b[0;32m      1\u001b[0m \u001b[1;31m#MCSHBAP - map, chache, shuffle, batch, prefetch  from_tensor_slices, list_file\u001b[0m\u001b[1;33m\u001b[0m\u001b[1;33m\u001b[0m\u001b[0m\n\u001b[1;32m----> 2\u001b[1;33m \u001b[0mdataset\u001b[0m \u001b[1;33m=\u001b[0m \u001b[0mtf\u001b[0m\u001b[1;33m.\u001b[0m\u001b[0mdata\u001b[0m\u001b[1;33m.\u001b[0m\u001b[0mDataset\u001b[0m\u001b[1;33m.\u001b[0m\u001b[0mfrom_tensor_slices\u001b[0m\u001b[1;33m(\u001b[0m\u001b[1;33m(\u001b[0m\u001b[0mvectorized_text2\u001b[0m\u001b[1;33m,\u001b[0m \u001b[0my\u001b[0m\u001b[1;33m)\u001b[0m\u001b[1;33m)\u001b[0m\u001b[1;33m\u001b[0m\u001b[1;33m\u001b[0m\u001b[0m\n\u001b[0m\u001b[0;32m      3\u001b[0m \u001b[0mdataset\u001b[0m \u001b[1;33m=\u001b[0m \u001b[0mdataset\u001b[0m\u001b[1;33m.\u001b[0m\u001b[0mcache\u001b[0m\u001b[1;33m(\u001b[0m\u001b[1;33m)\u001b[0m\u001b[1;33m\u001b[0m\u001b[1;33m\u001b[0m\u001b[0m\n\u001b[0;32m      4\u001b[0m \u001b[1;31m#dataset = dataset.shuffle(160000)\u001b[0m\u001b[1;33m\u001b[0m\u001b[1;33m\u001b[0m\u001b[0m\n\u001b[0;32m      5\u001b[0m \u001b[1;31m#dataset = dataset.shuffle(20002)\u001b[0m\u001b[1;33m\u001b[0m\u001b[1;33m\u001b[0m\u001b[0m\n",
      "\u001b[1;31mNameError\u001b[0m: name 'y' is not defined"
     ]
    }
   ],
   "source": [
    "#MCSHBAP - map, chache, shuffle, batch, prefetch  from_tensor_slices, list_file\n",
    "dataset = tf.data.Dataset.from_tensor_slices((vectorized_text2, yh))\n",
    "dataset = dataset.cache()\n",
    "#dataset = dataset.shuffle(160000)\n",
    "#dataset = dataset.shuffle(20002)\n",
    "dataset = dataset.shuffle(7005)\n",
    "dataset = dataset.batch(16)\n",
    "dataset = dataset.prefetch(8) # helps bottlenecks\n"
   ]
  },
  {
   "cell_type": "code",
   "execution_count": null,
   "id": "53db390c",
   "metadata": {},
   "outputs": [],
   "source": [
    "train = dataset.take(int(len(dataset)*.7))\n",
    "val = dataset.skip(int(len(dataset)*.7)).take(int(len(dataset)*.2))\n",
    "test = dataset.skip(int(len(dataset)*.9)).take(int(len(dataset)*.1))\n"
   ]
  },
  {
   "cell_type": "code",
   "execution_count": null,
   "id": "9e9b2054",
   "metadata": {
    "scrolled": false
   },
   "outputs": [],
   "source": [
    "# # 2. Create Sequential Model\n",
    "from tensorflow.keras.models import Sequential\n",
    "from tensorflow.keras.layers import LSTM, Dropout, Bidirectional, Dense, Embedding\n",
    "model = Sequential()\n",
    "# Create the embedding layer \n",
    "model.add(Embedding(MAX_FEATURES+1, 32))\n",
    "# Bidirectional LSTM Layer\n",
    "model.add(Bidirectional(LSTM(32, activation='tanh')))\n",
    "# Feature extractor Fully connected layers\n",
    "model.add(Dense(128, activation='relu'))\n",
    "model.add(Dense(256, activation='relu'))\n",
    "model.add(Dense(128, activation='relu'))\n",
    "# Final layer \n",
    "model.add(Dense(4, activation='sigmoid'))\n",
    "# model.add(Dense(1, activation='sigmoid'))\n",
    "model.compile(loss='BinaryCrossentropy', optimizer='Adam')\n",
    "model.summary()\n"
   ]
  },
  {
   "cell_type": "code",
   "execution_count": null,
   "id": "f3ab7097",
   "metadata": {},
   "outputs": [],
   "source": [
    "history = model.fit(train, epochs=12, validation_data=val)"
   ]
  },
  {
   "cell_type": "code",
   "execution_count": null,
   "id": "7b881011",
   "metadata": {},
   "outputs": [],
   "source": [
    "# model1 = tf.keras.models.load_model('toxicitye5.h5')\n",
    "# model2 = tf.keras.models.load_model('rhumour.h5')\n",
    "# # model3 = tf.keras.models.load_model('humour1.h5')"
   ]
  },
  {
   "cell_type": "code",
   "execution_count": null,
   "id": "bcc9b9cb",
   "metadata": {},
   "outputs": [],
   "source": [
    "input_text = vectorizer(['hi'])\n",
    "# input_text.shape\n",
    "print(model.predict(input_text))\n",
    "# print(model2.predict(input_text))\n",
    "# (res >0.7).astype(int)"
   ]
  },
  {
   "cell_type": "code",
   "execution_count": null,
   "id": "c5ddd903",
   "metadata": {},
   "outputs": [],
   "source": [
    "# def score_comment(comment):\n",
    "#     input_text = vectorizer([comment])\n",
    "#     res1=(model1.predict(input_text))\n",
    "#     res2=(model2.predict(input_text))\n",
    "#     out=''\n",
    "#     l=[]\n",
    "#     a1=(res1 >=0.5).astype(int)\n",
    "#     for i in range(0,len(a1[0])):\n",
    "#         if a1[0][i]==1:\n",
    "#             l.append(i)\n",
    "#     if len(l)!=0:\n",
    "#         out += 'is_toxic : true\\n'\n",
    "#         out += '{}: {}\\n'.format('toxic_rate between 0 to 6', len(l))\n",
    "#     else:\n",
    "#         out += 'is_toxic : False\\n'\n",
    "#     l=[]\n",
    "#     a2=(res2 >=0.5).astype(int)\n",
    "#     for i in range(1,len(a2[0])):\n",
    "#         if a2[0][i]==1:\n",
    "#             l.append(i)\n",
    "#     try:\n",
    "#         c=max(l)\n",
    "#         out += 'is_humor : true\\n'\n",
    "#         out += '{}: {}\\n'.format('humor_rate between 0 to 3', c)\n",
    "#     except:\n",
    "#         out += 'is_humor : False\\n'\n",
    "#     return(out)"
   ]
  },
  {
   "cell_type": "code",
   "execution_count": null,
   "id": "786919e3",
   "metadata": {},
   "outputs": [],
   "source": [
    "# print(score_comment('hi'))"
   ]
  },
  {
   "cell_type": "code",
   "execution_count": null,
   "id": "b9d94938",
   "metadata": {},
   "outputs": [],
   "source": [
    "# interface = gr.Interface(fn=score_comment, \n",
    "#                          inputs=gr.inputs.Textbox(lines=2, placeholder='Comment to score'),\n",
    "#                         outputs='text')"
   ]
  },
  {
   "cell_type": "code",
   "execution_count": null,
   "id": "bf2f5ac0",
   "metadata": {},
   "outputs": [],
   "source": [
    "# interface.launch(share=True)"
   ]
  },
  {
   "cell_type": "code",
   "execution_count": null,
   "id": "a59c06c4",
   "metadata": {},
   "outputs": [],
   "source": [
    "# model.save('rhumour.h5')"
   ]
  },
  {
   "cell_type": "code",
   "execution_count": null,
   "id": "187cfea3",
   "metadata": {},
   "outputs": [],
   "source": [
    "# model8 = tf.keras.models.load_model('humour1.h5')"
   ]
  },
  {
   "cell_type": "code",
   "execution_count": null,
   "id": "1702f7bb",
   "metadata": {},
   "outputs": [],
   "source": [
    "# input_text = vectorizer(['hi'])\n",
    "# # input_text.shape\n",
    "# print(model.predict(input_text))\n",
    "# print(model8.predict(input_text))\n",
    "# # (res >0.7).astype(int)"
   ]
  },
  {
   "cell_type": "code",
   "execution_count": null,
   "id": "57806034",
   "metadata": {},
   "outputs": [],
   "source": [
    "# def score_comment(comment):\n",
    "# #     vectorized_comment = vectorizer([comment])\n",
    "# # #     results = model.predict(vectorized_comment)\n",
    "    \n",
    "# #     text = ''\n",
    "# #     for idx, col in enumerate(df.columns[2:]):\n",
    "# #         text += '{}: {}\\n'.format(col, results[0][idx]>0.5)\n",
    "    \n",
    "#     return comment"
   ]
  },
  {
   "cell_type": "code",
   "execution_count": null,
   "id": "40c15143",
   "metadata": {},
   "outputs": [],
   "source": [
    "# interface = gr.Interface(fn=score_comment, \n",
    "#                          inputs=gr.inputs.Textbox(lines=2, placeholder='Comment to score'),\n",
    "#                         outputs='text')"
   ]
  },
  {
   "cell_type": "code",
   "execution_count": null,
   "id": "1cc475fa",
   "metadata": {},
   "outputs": [],
   "source": [
    "# interface.launch(share=True)"
   ]
  },
  {
   "cell_type": "code",
   "execution_count": null,
   "id": "93130f41",
   "metadata": {},
   "outputs": [],
   "source": []
  }
 ],
 "metadata": {
  "kernelspec": {
   "display_name": "Python 3 (ipykernel)",
   "language": "python",
   "name": "python3"
  },
  "language_info": {
   "codemirror_mode": {
    "name": "ipython",
    "version": 3
   },
   "file_extension": ".py",
   "mimetype": "text/x-python",
   "name": "python",
   "nbconvert_exporter": "python",
   "pygments_lexer": "ipython3",
   "version": "3.9.13"
  }
 },
 "nbformat": 4,
 "nbformat_minor": 5
}
