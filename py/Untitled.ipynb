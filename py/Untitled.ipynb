{
 "cells": [
  {
   "cell_type": "code",
   "execution_count": null,
   "id": "c0de08f8",
   "metadata": {},
   "outputs": [],
   "source": [
    "df = pd.read_csv('./data.csv')"
   ]
  },
  {
   "cell_type": "code",
   "execution_count": null,
   "id": "95dd4278",
   "metadata": {},
   "outputs": [],
   "source": [
    "X = df['text']\n",
    "y = df[df.columns[2:]].values"
   ]
  },
  {
   "cell_type": "code",
   "execution_count": null,
   "id": "e01aa5f1",
   "metadata": {},
   "outputs": [],
   "source": [
    "MAX_FEATURES = 200000 \n",
    "vectorizer = TextVectorization(max_tokens=MAX_FEATURES,\n",
    "                               output_sequence_length=1800,\n",
    "                               output_mode='int')\n",
    "vectorizer.adapt(X.values)\n",
    "vectorized_text = vectorizer(X.values)"
   ]
  },
  {
   "cell_type": "code",
   "execution_count": null,
   "id": "3ef466e9",
   "metadata": {},
   "outputs": [],
   "source": [
    "dataset = tf.data.Dataset.from_tensor_slices((vectorized_text, y))\n",
    "dataset = dataset.cache()\n",
    "dataset = dataset.shuffle(160000)\n",
    "dataset = dataset.batch(16)\n",
    "dataset = dataset.prefetch(8)"
   ]
  },
  {
   "cell_type": "code",
   "execution_count": null,
   "id": "a4d543c1",
   "metadata": {},
   "outputs": [],
   "source": [
    "train = dataset.take(int(len(dataset)*.7))\n",
    "val = dataset.skip(int(len(dataset)*.7)).take(int(len(dataset)*.2))\n",
    "test = dataset.skip(int(len(dataset)*.9)).take(int(len(dataset)*.1))"
   ]
  },
  {
   "cell_type": "code",
   "execution_count": null,
   "id": "1006450f",
   "metadata": {},
   "outputs": [],
   "source": [
    "model = Sequential()\n",
    "model.add(Embedding(MAX_FEATURES+1, 32))\n",
    "model.add(Bidirectional(LSTM(32, activation='tanh')))\n",
    "model.add(Dense(128, activation='relu'))\n",
    "model.add(Dense(256, activation='relu'))\n",
    "model.add(Dense(128, activation='relu'))\n",
    "model.add(Dense(6, activation='sigmoid'))\n",
    "model.compile(loss='BinaryCrossentropy', optimizer='Adam')\n",
    "model.summary()"
   ]
  },
  {
   "cell_type": "code",
   "execution_count": null,
   "id": "d73592cf",
   "metadata": {},
   "outputs": [],
   "source": [
    "history = model.fit(train, epochs=13, validation_data=val)"
   ]
  },
  {
   "cell_type": "code",
   "execution_count": null,
   "id": "d85b7304",
   "metadata": {},
   "outputs": [],
   "source": [
    "def score_comment(comment):\n",
    "    input_text = vectorizer([comment])\n",
    "    res=(model.predict(input_text))\n",
    "    out=''\n",
    "    l=[]\n",
    "    a1=(res1 >=0.5).astype(int)\n",
    "    for i in range(0,len(a1[0])):\n",
    "        if a1[0][i]==1:\n",
    "            l.append(i)\n",
    "    if len(l)!=0:\n",
    "        out += 'is_toxic : true\\n'+'{}: {}\\n'.format('toxic_rate between 0 to 6', len(l))\n",
    "    else:\n",
    "        out += 'is_toxic : False\\n'\n",
    "    l=[]\n",
    "    a2=(res2 >=0.5).astype(int)\n",
    "    for i in range(1,len(a2[0])):\n",
    "        if a2[0][i]==1:\n",
    "            l.append(i)\n",
    "    if res3[0][0]>0.7:\n",
    "        try:\n",
    "            c=max(l)\n",
    "            out += 'is_humor : true\\n'+'{}: {}\\n'.format('humor_rate between 0 to 3', c)\n",
    "        except:\n",
    "            out += 'is_humor : False\\n'\n",
    "    else:\n",
    "        out += 'is_humor : False\\n'\n",
    "    return(out)"
   ]
  },
  {
   "cell_type": "code",
   "execution_count": null,
   "id": "6e9a21c1",
   "metadata": {},
   "outputs": [],
   "source": [
    "interface = gr.Interface(fn=score_comment,inputs=gr.inputs.Textbox(lines=2, placeholder='Comment to score'),outputs='text')\n",
    "interface.launch(share=True)"
   ]
  },
  {
   "cell_type": "code",
   "execution_count": null,
   "id": "9a57590d",
   "metadata": {},
   "outputs": [],
   "source": [
    "S"
   ]
  }
 ],
 "metadata": {
  "kernelspec": {
   "display_name": "Python 3 (ipykernel)",
   "language": "python",
   "name": "python3"
  },
  "language_info": {
   "codemirror_mode": {
    "name": "ipython",
    "version": 3
   },
   "file_extension": ".py",
   "mimetype": "text/x-python",
   "name": "python",
   "nbconvert_exporter": "python",
   "pygments_lexer": "ipython3",
   "version": "3.9.13"
  }
 },
 "nbformat": 4,
 "nbformat_minor": 5
}
