{
 "cells": [
  {
   "cell_type": "code",
   "execution_count": 1,
   "id": "6f5d3776",
   "metadata": {},
   "outputs": [],
   "source": [
    "import pandas as pd\n",
    "import tensorflow as tf\n",
    "import numpy as np\n",
    "import tensorflow as tf\n",
    "import gradio as gr\n",
    "from tensorflow.keras.layers import TextVectorization\n",
    "from tensorflow.keras.models import Sequential\n",
    "from tensorflow.keras.layers import LSTM, Dropout, Bidirectional, Dense, Embedding\n",
    "from tensorflow.keras.metrics import Precision, Recall, CategoricalAccuracy\n",
    "import math  \n",
    "import sklearn.metrics"
   ]
  },
  {
   "cell_type": "code",
   "execution_count": 2,
   "id": "e62b8c4b",
   "metadata": {},
   "outputs": [],
   "source": [
    "df = pd.read_csv('./htrain.csv')\n",
    "dfh = pd.read_csv('./hr.csv')"
   ]
  },
  {
   "cell_type": "code",
   "execution_count": 3,
   "id": "ace64b61",
   "metadata": {},
   "outputs": [
    {
     "data": {
      "text/html": [
       "<div>\n",
       "<style scoped>\n",
       "    .dataframe tbody tr th:only-of-type {\n",
       "        vertical-align: middle;\n",
       "    }\n",
       "\n",
       "    .dataframe tbody tr th {\n",
       "        vertical-align: top;\n",
       "    }\n",
       "\n",
       "    .dataframe thead th {\n",
       "        text-align: right;\n",
       "    }\n",
       "</style>\n",
       "<table border=\"1\" class=\"dataframe\">\n",
       "  <thead>\n",
       "    <tr style=\"text-align: right;\">\n",
       "      <th></th>\n",
       "      <th>Id</th>\n",
       "      <th>ocr_text</th>\n",
       "      <th>humour</th>\n",
       "      <th>is_humour</th>\n",
       "      <th>funny</th>\n",
       "      <th>very_funny</th>\n",
       "      <th>hilarious</th>\n",
       "    </tr>\n",
       "  </thead>\n",
       "  <tbody>\n",
       "    <tr>\n",
       "      <th>0</th>\n",
       "      <td>1</td>\n",
       "      <td>enters into a wrong class teacher and students</td>\n",
       "      <td>funny</td>\n",
       "      <td>1</td>\n",
       "      <td>1</td>\n",
       "      <td>0</td>\n",
       "      <td>0</td>\n",
       "    </tr>\n",
       "    <tr>\n",
       "      <th>1</th>\n",
       "      <td>2</td>\n",
       "      <td>dj if you single make some nooooissssseeee my ...</td>\n",
       "      <td>funny</td>\n",
       "      <td>1</td>\n",
       "      <td>1</td>\n",
       "      <td>0</td>\n",
       "      <td>0</td>\n",
       "    </tr>\n",
       "    <tr>\n",
       "      <th>2</th>\n",
       "      <td>3</td>\n",
       "      <td>everyone sit like a lady me</td>\n",
       "      <td>funny</td>\n",
       "      <td>1</td>\n",
       "      <td>1</td>\n",
       "      <td>0</td>\n",
       "      <td>0</td>\n",
       "    </tr>\n",
       "    <tr>\n",
       "      <th>3</th>\n",
       "      <td>4</td>\n",
       "      <td>when youre about to watch a 2 hour educational...</td>\n",
       "      <td>funny</td>\n",
       "      <td>1</td>\n",
       "      <td>1</td>\n",
       "      <td>0</td>\n",
       "      <td>0</td>\n",
       "    </tr>\n",
       "    <tr>\n",
       "      <th>4</th>\n",
       "      <td>5</td>\n",
       "      <td>government work from home olympic swimmers nsdf</td>\n",
       "      <td>very_funny</td>\n",
       "      <td>1</td>\n",
       "      <td>0</td>\n",
       "      <td>1</td>\n",
       "      <td>0</td>\n",
       "    </tr>\n",
       "  </tbody>\n",
       "</table>\n",
       "</div>"
      ],
      "text/plain": [
       "   Id                                           ocr_text      humour  \\\n",
       "0   1    enters into a wrong class teacher and students        funny   \n",
       "1   2  dj if you single make some nooooissssseeee my ...       funny   \n",
       "2   3                       everyone sit like a lady me        funny   \n",
       "3   4  when youre about to watch a 2 hour educational...       funny   \n",
       "4   5   government work from home olympic swimmers nsdf   very_funny   \n",
       "\n",
       "   is_humour  funny  very_funny  hilarious  \n",
       "0          1      1           0          0  \n",
       "1          1      1           0          0  \n",
       "2          1      1           0          0  \n",
       "3          1      1           0          0  \n",
       "4          1      0           1          0  "
      ]
     },
     "execution_count": 3,
     "metadata": {},
     "output_type": "execute_result"
    }
   ],
   "source": [
    "dfh['is_humour']=dfh['humour'].apply(lambda x: 0 if x=='not_funny' else 1)\n",
    "dfh['funny']=dfh['humour'].apply(lambda x: 1 if x=='funny' else 0)\n",
    "dfh['very_funny']=dfh['humour'].apply(lambda x: 1 if x=='very_funny' else 0)\n",
    "dfh['hilarious']=dfh['humour'].apply(lambda x: 1 if x=='hilarious' else 0)\n",
    "dfh.head()"
   ]
  },
  {
   "cell_type": "code",
   "execution_count": 4,
   "id": "77534572",
   "metadata": {},
   "outputs": [],
   "source": [
    "Xh = dfh['ocr_text']\n",
    "yh = dfh[dfh.columns[3:]].values\n",
    "X = df['text']\n",
    "y = df[df.columns[1:]].values"
   ]
  },
  {
   "cell_type": "code",
   "execution_count": 5,
   "id": "2c9753e6",
   "metadata": {},
   "outputs": [],
   "source": [
    "t = pd.read_csv('./ttrain.csv')\n",
    "Xt = t['comment_text']"
   ]
  },
  {
   "cell_type": "code",
   "execution_count": 6,
   "id": "b5d05c1a",
   "metadata": {},
   "outputs": [],
   "source": [
    "MAX_FEATURES = 200000\n",
    "vectorizer = TextVectorization(max_tokens=MAX_FEATURES,\n",
    "                               output_sequence_length=1800,\n",
    "                               output_mode='int')"
   ]
  },
  {
   "cell_type": "code",
   "execution_count": 25,
   "id": "a4230ecc",
   "metadata": {},
   "outputs": [],
   "source": [
    "vectorizer.adapt(Xt.values)\n",
    "vectorized_texth = vectorizer(X.values)"
   ]
  },
  {
   "cell_type": "code",
   "execution_count": null,
   "id": "66b53c13",
   "metadata": {},
   "outputs": [],
   "source": []
  },
  {
   "cell_type": "code",
   "execution_count": 27,
   "id": "d74ec840",
   "metadata": {},
   "outputs": [],
   "source": [
    "dataset = tf.data.Dataset.from_tensor_slices((vectorized_texth, y))\n",
    "dataset = dataset.cache()\n",
    "dataset = dataset.shuffle(20002)\n",
    "dataset = dataset.batch(16)\n",
    "dataset = dataset.prefetch(8)"
   ]
  },
  {
   "cell_type": "code",
   "execution_count": 28,
   "id": "258d73d8",
   "metadata": {},
   "outputs": [],
   "source": [
    "train = dataset.take(int(len(dataset)*.7))\n",
    "val = dataset.skip(int(len(dataset)*.7)).take(int(len(dataset)*.2))\n",
    "test = dataset.skip(int(len(dataset)*.9)).take(int(len(dataset)*.1))"
   ]
  },
  {
   "cell_type": "code",
   "execution_count": 10,
   "id": "df9dd310",
   "metadata": {},
   "outputs": [],
   "source": [
    "model = tf.keras.models.load_model('rhumour.h5')\n",
    "model1 = tf.keras.models.load_model('thumour.h5')"
   ]
  },
  {
   "cell_type": "code",
   "execution_count": 11,
   "id": "c5074700",
   "metadata": {},
   "outputs": [
    {
     "data": {
      "text/plain": [
       "<tf.Tensor: shape=(1, 1800), dtype=int64, numpy=array([[  40,    9, 1003, ...,    0,    0,    0]], dtype=int64)>"
      ]
     },
     "execution_count": 11,
     "metadata": {},
     "output_type": "execute_result"
    }
   ],
   "source": [
    "# # model.predict([\"cn is computer networks\"])\n",
    "p= Precision()\n",
    "vectorizer([\"what is computer\"])"
   ]
  },
  {
   "cell_type": "code",
   "execution_count": 12,
   "id": "3af598a8",
   "metadata": {
    "scrolled": true
   },
   "outputs": [],
   "source": [
    "# # # 2. Create Sequential Model\n",
    "# from tensorflow.keras.models import Sequential\n",
    "# from tensorflow.keras.layers import LSTM, Dropout, Bidirectional, Dense, Embedding\n",
    "# model = Sequential()\n",
    "# # Create the embedding layer \n",
    "# model.add(Embedding(MAX_FEATURES+1, 32))\n",
    "# # Bidirectional LSTM Layer\n",
    "# model.add(Bidirectional(LSTM(32, activation='tanh')))\n",
    "# # Feature extractor Fully connected layers\n",
    "# model.add(Dense(128, activation='relu'))\n",
    "# model.add(Dense(256, activation='relu'))\n",
    "# model.add(Dense(128, activation='relu'))\n",
    "# # Final layer\n",
    "a = Recall()\n",
    "# # model.add(Dense(6, activation='sigmoid'))\n",
    "# model.add(Dense(1, activation='sigmoid'))\n",
    "# model.compile(loss='BinaryCrossentropy', optimizer='Adam')\n",
    "# model.summary()\n"
   ]
  },
  {
   "cell_type": "code",
   "execution_count": 13,
   "id": "ad29a8e1",
   "metadata": {
    "scrolled": false
   },
   "outputs": [],
   "source": [
    "# history = model.fit(train, epochs=12, validation_data=val)"
   ]
  },
  {
   "cell_type": "code",
   "execution_count": 14,
   "id": "3c278180",
   "metadata": {},
   "outputs": [],
   "source": [
    "# model.save('thumour.h5')"
   ]
  },
  {
   "cell_type": "code",
   "execution_count": 15,
   "id": "b3aa7f13",
   "metadata": {},
   "outputs": [
    {
     "data": {
      "text/plain": [
       "array([[0.8372658]], dtype=float32)"
      ]
     },
     "execution_count": 15,
     "metadata": {},
     "output_type": "execute_result"
    }
   ],
   "source": [
    "input_text = vectorizer([\"Research on the Newton’s Laws of motion, and make a report that provide detail explanation\"])\n",
    "model1.predict(input_text)"
   ]
  },
  {
   "cell_type": "code",
   "execution_count": 16,
   "id": "f0a7cc11",
   "metadata": {},
   "outputs": [],
   "source": [
    "def score_comment(comment):\n",
    "    input_text = vectorizer([comment])\n",
    "    res=(model.predict(input_text))\n",
    "    res1=(model1.predict(input_text))\n",
    "    out=''\n",
    "    l=[]\n",
    "    a=(res >=0.5).astype(int)\n",
    "    for i in range(1,len(a[0])):\n",
    "        if a[0][i]==1:\n",
    "            l.append(i)\n",
    "    if res1[0][0]>0.95:\n",
    "        try:\n",
    "            c=max(max(l),len(l))\n",
    "            out += 'is_humor : true\\n'\n",
    "            out += '{}: {}\\n'.format('humor_rate between 1 to 3', c)\n",
    "        except:\n",
    "            out += 'is_humor : False\\n'\n",
    "    else:\n",
    "        out += 'is_humor : False\\n'\n",
    "    return(out)"
   ]
  },
  {
   "cell_type": "code",
   "execution_count": 17,
   "id": "1f5c74ef",
   "metadata": {},
   "outputs": [
    {
     "name": "stderr",
     "output_type": "stream",
     "text": [
      "C:\\Users\\srini\\anaconda3\\lib\\site-packages\\gradio\\inputs.py:26: UserWarning: Usage of gradio.inputs is deprecated, and will not be supported in the future, please import your component from gradio.components\n",
      "  warnings.warn(\n",
      "C:\\Users\\srini\\anaconda3\\lib\\site-packages\\gradio\\deprecation.py:40: UserWarning: `optional` parameter is deprecated, and it has no effect\n",
      "  warnings.warn(value)\n",
      "C:\\Users\\srini\\anaconda3\\lib\\site-packages\\gradio\\deprecation.py:40: UserWarning: `numeric` parameter is deprecated, and it has no effect\n",
      "  warnings.warn(value)\n"
     ]
    },
    {
     "name": "stdout",
     "output_type": "stream",
     "text": [
      "IMPORTANT: You are using gradio version 3.11.0, however version 3.14.0 is available, please upgrade.\n",
      "--------\n"
     ]
    }
   ],
   "source": [
    "interface = gr.Interface(fn=score_comment, \n",
    "                         inputs=gr.inputs.Textbox(lines=2, placeholder='Comment to score'),\n",
    "                        outputs='text')"
   ]
  },
  {
   "cell_type": "code",
   "execution_count": 18,
   "id": "04be788a",
   "metadata": {},
   "outputs": [
    {
     "name": "stdout",
     "output_type": "stream",
     "text": [
      "Running on local URL:  http://127.0.0.1:7860\n",
      "Running on public URL: https://11d22baa971b7fca.gradio.app\n",
      "\n",
      "This share link expires in 72 hours. For free permanent hosting and GPU upgrades (NEW!), check out Spaces: https://huggingface.co/spaces\n"
     ]
    },
    {
     "data": {
      "text/html": [
       "<div><iframe src=\"https://11d22baa971b7fca.gradio.app\" width=\"100%\" height=\"500\" allow=\"autoplay; camera; microphone; clipboard-read; clipboard-write;\" frameborder=\"0\" allowfullscreen></iframe></div>"
      ],
      "text/plain": [
       "<IPython.core.display.HTML object>"
      ]
     },
     "metadata": {},
     "output_type": "display_data"
    },
    {
     "data": {
      "text/plain": []
     },
     "execution_count": 18,
     "metadata": {},
     "output_type": "execute_result"
    }
   ],
   "source": [
    "interface.launch(share=True)"
   ]
  },
  {
   "cell_type": "code",
   "execution_count": 19,
   "id": "4f7c56e6",
   "metadata": {},
   "outputs": [],
   "source": [
    "r=Recall()"
   ]
  },
  {
   "cell_type": "code",
   "execution_count": 29,
   "id": "8094d6da",
   "metadata": {},
   "outputs": [],
   "source": [
    "for batch in test.as_numpy_iterator(): \n",
    "    # Unpack the batch \n",
    "    X_true, y_true = batch\n",
    "    # Make a prediction \n",
    "    yhat = model1.predict(X_true)\n",
    "    \n",
    "    # Flatten the predictions\n",
    "    y_true = y_true.flatten()\n",
    "    yhat = yhat.flatten()\n",
    "    \n",
    "    a.update_state(y_true, yhat)\n",
    "    p.update_state(y_true, yhat)\n",
    "    r.update_state(y_true, yhat)\n",
    "    mse = sklearn.metrics.mean_squared_error(y_true, yhat)\n",
    "    rmse = math.sqrt(mse)  "
   ]
  },
  {
   "cell_type": "code",
   "execution_count": 30,
   "id": "ff46e032",
   "metadata": {},
   "outputs": [],
   "source": [
    "acc=a.result().numpy()\n",
    "rec=r.result().numpy()\n",
    "pre=p.result().numpy()\n",
    "f1=2*((p.result().numpy()*r.result().numpy())/(p.result().numpy()+r.result().numpy()))"
   ]
  },
  {
   "cell_type": "code",
   "execution_count": 32,
   "id": "8c4660b6",
   "metadata": {
    "scrolled": true
   },
   "outputs": [
    {
     "name": "stdout",
     "output_type": "stream",
     "text": [
      "Accuracy:0.981632649898529\n",
      "\n",
      "Precision:0.991752564907074\n",
      "\n",
      "Recall:0.971632649898529\n",
      "\n",
      "F1Score:0.9866666197776794\n",
      "\n",
      "RMSE:0.10321832137843548\n"
     ]
    },
    {
     "name": "stderr",
     "output_type": "stream",
     "text": [
      "Socket exception: An existing connection was forcibly closed by the remote host (10054)\n"
     ]
    }
   ],
   "source": [
    "# for Detecting and rating humour\n",
    "print(f'Accuracy:{acc}\\n\\nPrecision:{pre}\\n\\nRecall:{rec}\\n\\nF1Score:{f1}\\n\\nRMSE:{rmse}')"
   ]
  },
  {
   "cell_type": "code",
   "execution_count": null,
   "id": "78c40fc6",
   "metadata": {},
   "outputs": [],
   "source": []
  }
 ],
 "metadata": {
  "kernelspec": {
   "display_name": "Python 3 (ipykernel)",
   "language": "python",
   "name": "python3"
  },
  "language_info": {
   "codemirror_mode": {
    "name": "ipython",
    "version": 3
   },
   "file_extension": ".py",
   "mimetype": "text/x-python",
   "name": "python",
   "nbconvert_exporter": "python",
   "pygments_lexer": "ipython3",
   "version": "3.9.13"
  }
 },
 "nbformat": 4,
 "nbformat_minor": 5
}
